{
 "metadata": {
  "name": "",
  "signature": "sha256:210805fe75524e7554fc48cce997147fa147f14e83c87295dcf32eba4a07869f"
 },
 "nbformat": 3,
 "nbformat_minor": 0,
 "worksheets": [
  {
   "cells": [
    {
     "cell_type": "heading",
     "level": 1,
     "metadata": {},
     "source": [
      "Configuration of siman"
     ]
    },
    {
     "cell_type": "markdown",
     "metadata": {},
     "source": [
      "You can use siman in IPython as shown in futher tutorials. \n",
      "However, in our opinion it is more convinient to use Advanced code editor. We use Sublime Text 3. It has many cool features, including building the project right from your window with code.\n",
      "\n",
      "If you choose the latter we suggest to download this project template []\n",
      "\n",
      "\n",
      "Configuration is provided in \"siman/default_project_conf.py\" file. Open it."
     ]
    },
    {
     "cell_type": "heading",
     "level": 2,
     "metadata": {},
     "source": [
      "1. Configuration of cluster"
     ]
    },
    {
     "cell_type": "markdown",
     "metadata": {},
     "source": [
      "Find the code below and provide your address, your homepath, your schedule system (from 'PBS', 'SLURM', SGE),\n",
      "number of cores, path to python (optional), and vasp_command - path to vasp binary on cluster"
     ]
    },
    {
     "cell_type": "code",
     "collapsed": false,
     "input": [
      "CLUSTERS['cee'] = {\n",
      "'address':'aksenov@10.30.16.62', # command for ssh\n",
      "'homepath':'/home/aksenov/',\n",
      "'schedule':'SLURM',\n",
      "'corenum':16,\n",
      "'pythonpath':'/usr/lib64/python2.7/site-packages/numpy',\n",
      "'vasp_com':'prun /opt/vasp/bin/vasp5.4.1MPI',  # path to vasp binary\n",
      "}"
     ],
     "language": "python",
     "metadata": {},
     "outputs": []
    },
    {
     "cell_type": "markdown",
     "metadata": {},
     "source": [
      "Attention! You should set up **passwordless** access to cluster. See here http://www.linuxproblem.org/art_9.html\n",
      "\n",
      "If you use some other schedule system on your cluster, use different ssh port, please ask developer."
     ]
    },
    {
     "cell_type": "heading",
     "level": 2,
     "metadata": {},
     "source": [
      "2. Path to potentials"
     ]
    },
    {
     "cell_type": "markdown",
     "metadata": {},
     "source": [
      "Change the following string, which is the path to folder with VASP potentials"
     ]
    },
    {
     "cell_type": "code",
     "collapsed": false,
     "input": [
      "PATH2POTENTIALS = '/home/aksenov/scientific_projects/PAW_PBE_VASP'"
     ],
     "language": "python",
     "metadata": {},
     "outputs": []
    }
   ],
   "metadata": {}
  }
 ]
}