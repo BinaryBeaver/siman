{
 "metadata": {
  "name": "",
  "signature": "sha256:801a7b4a1462d309bae07fa6b9c1da7421224fbd44cc98132933fd7587ba2667"
 },
 "nbformat": 3,
 "nbformat_minor": 0,
 "worksheets": [
  {
   "cells": [
    {
     "cell_type": "heading",
     "level": 1,
     "metadata": {},
     "source": [
      "Configuration of siman"
     ]
    },
    {
     "cell_type": "markdown",
     "metadata": {},
     "source": [
      "You can use siman in IPython as shown in futher tutorials. \n",
      "However, in our opinion it is more convinient to use Advanced code editor. We use Sublime Text 3. It has many cool features, including building the project right from your window with code.\n",
      "\n",
      "If you choose the latter case we suggest to download this [project template](https://github.com/dimonaks/siman/tree/master/project_template). It contains three python files. In main.py you make all your calculations. In project_conf.py you put all your control parameters. In project_sets.py you create new calculation sets. \n",
      "\n",
      "\n",
      "Global configuration can be provided in \"siman/default_project_conf.py\" file, which is similar to project_conf.py. However, be careful not to overwrite it during update. The issue will be resolved."
     ]
    },
    {
     "cell_type": "heading",
     "level": 2,
     "metadata": {},
     "source": [
      "1. Description of project_conf.py"
     ]
    },
    {
     "cell_type": "markdown",
     "metadata": {},
     "source": [
      "###Cluster description\n",
      "Find the code below and provide your address, your homepath, your schedule system (from 'PBS', 'SLURM', SGE),\n",
      "number of cores, path to python (optional), and vasp_command - path to vasp binary on cluster"
     ]
    },
    {
     "cell_type": "code",
     "collapsed": false,
     "input": [
      "CLUSTERS['cee'] = {\n",
      "'address':'aksenov@10.30.16.62', # command for ssh\n",
      "'homepath':'/home/aksenov/',\n",
      "'schedule':'SLURM',\n",
      "'corenum':16,\n",
      "'pythonpath':'/usr/lib64/python2.7/site-packages/numpy',\n",
      "'vasp_com':'prun /opt/vasp/bin/vasp5.4.1MPI',  # path to vasp binary\n",
      "}"
     ],
     "language": "python",
     "metadata": {},
     "outputs": []
    },
    {
     "cell_type": "markdown",
     "metadata": {},
     "source": [
      "Attention! You should set up **passwordless** access to cluster. See here http://www.linuxproblem.org/art_9.html\n",
      "\n",
      "If you use some other schedule system on your cluster, use different ssh port, please ask developer."
     ]
    },
    {
     "cell_type": "markdown",
     "metadata": {},
     "source": [
      "###Required parameters:\n",
      "DEFAULT_CLUSTER = 'cee' # key from CLUSTERS dictionary described above\n",
      "\n",
      "PATH2PROJECT = '' # path to project on cluster relative to home folder\n",
      "\n",
      "PATH2POTENTIALS = '/path/to/potentials' # path to folder with VASP potentials on local machine\n",
      "###Optional parameters:\n",
      "PATH2ARCHIVE = '/storage/amg/aksenov/'  # additional folder on cluster used as a copy of calculations (e.g. storage of charge density, wavefunctions)\n"
     ]
    },
    {
     "cell_type": "heading",
     "level": 2,
     "metadata": {},
     "source": [
      "2. Description of project_sets.py"
     ]
    }
   ],
   "metadata": {}
  }
 ]
}