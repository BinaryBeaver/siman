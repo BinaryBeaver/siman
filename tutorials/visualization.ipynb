{
 "metadata": {
  "name": "",
  "signature": "sha256:82caa9a7ee48f1547f75bec37d1b51b0dd361b2d3440aa8a996949d637a2fefd"
 },
 "nbformat": 3,
 "nbformat_minor": 0,
 "worksheets": [
  {
   "cells": [
    {
     "cell_type": "heading",
     "level": 1,
     "metadata": {},
     "source": [
      "Showing local structure around atoms"
     ]
    },
    {
     "cell_type": "markdown",
     "metadata": {},
     "source": [
      "To show six close neighbouring atoms around atom 1 run:"
     ]
    },
    {
     "cell_type": "code",
     "collapsed": false,
     "input": [
      "st = calc['example'].end\n",
      "\n",
      "st.write_xyz(analysis = 'imp_surrounding', show_around = 1, nnumber = 6)"
     ],
     "language": "python",
     "metadata": {},
     "outputs": []
    },
    {
     "cell_type": "code",
     "collapsed": false,
     "input": [
      "if you need only specific atoms add only_elements = [z1, z2, ...], where z1, z2, ... are atomic numbers"
     ],
     "language": "python",
     "metadata": {},
     "outputs": []
    }
   ],
   "metadata": {}
  }
 ]
}