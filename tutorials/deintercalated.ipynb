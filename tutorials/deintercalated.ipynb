{
 "metadata": {
  "name": "",
  "signature": "sha256:6a2d1f8ba076711fa9725b2e0500cc0cbc41af836550675dfba4e066913eeceb"
 },
 "nbformat": 3,
 "nbformat_minor": 0,
 "worksheets": [
  {
   "cells": [
    {
     "cell_type": "markdown",
     "metadata": {},
     "source": [
      "##Remove cations from cathode structure"
     ]
    },
    {
     "cell_type": "code",
     "collapsed": false,
     "input": [
      "import sys, numpy\n",
      "sys.path.extend(['/home/aksenov/Simulation_wrapper/siman'])\n",
      "from calc_manage import smart_structure_read\n",
      "from geo import create_deintercalated_structures\n",
      "\n",
      "st = smart_structure_read(input_geo_file = 'in/Na2FePO4F.POSCAR') #read initial structure from POSCAR\n",
      "\n",
      "structures = create_deintercalated_structures(st, 'Na')   #find non-equivalent positions of Na and remove Na"
     ],
     "language": "python",
     "metadata": {},
     "outputs": [
      {
       "output_type": "stream",
       "stream": "stdout",
       "text": [
        "-- You provided the following geo file explicitly  in/Na2FePO4F.POSCAR ; Version of file does not matter, I use *curver*= 1 as a new version \n",
        "\n",
        "-- I found  2 non-eqivalent positions for Na : dict_keys([56, 64]) \n",
        "\n"
       ]
      }
     ],
     "prompt_number": 1
    },
    {
     "cell_type": "code",
     "collapsed": false,
     "input": [
      "st.write_xyz()\n",
      "structures[0].write_xyz()\n",
      "structures[1].write_xyz()"
     ],
     "language": "python",
     "metadata": {},
     "outputs": [
      {
       "output_type": "stream",
       "stream": "stdout",
       "text": [
        "-- File xyz/Na2FePO4F.xyz was written \n",
        "\n",
        "-- File xyz/Na2FePO4F.Na56del.xyz was written \n",
        "\n",
        "-- File xyz/Na2FePO4F.Na64del.xyz was written \n",
        "\n"
       ]
      }
     ],
     "prompt_number": 4
    }
   ],
   "metadata": {}
  }
 ]
}