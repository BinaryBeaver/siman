{
 "metadata": {
  "name": "",
  "signature": "sha256:849f01cdf96f110e1e705ec0d6eb8d594c8fb6178535846f705bda0bb56031ec"
 },
 "nbformat": 3,
 "nbformat_minor": 0,
 "worksheets": [
  {
   "cells": [
    {
     "cell_type": "heading",
     "level": 1,
     "metadata": {},
     "source": [
      "Adding new calculation"
     ]
    },
    {
     "cell_type": "markdown",
     "metadata": {},
     "source": [
      "First of all you need to know initial crystall structure for your material. You can find it in books, articles, and materials databases. Currently, SIMAN provides interface to *materialsproject.org* database. \n",
      "To add a new calculation just run (on the example of FePO$_4$):"
     ]
    },
    {
     "cell_type": "code",
     "collapsed": false,
     "input": [
      "add_loop('FePO4.pnma','1u', 1, up = 'up1', input_geo_format = 'mat_proj', it_folder = 'LiFePO4', mat_proj_id = 'mp-777026') "
     ],
     "language": "python",
     "metadata": {},
     "outputs": []
    },
    {
     "cell_type": "markdown",
     "metadata": {},
     "source": [
      "where *'FePO4.pnma'* is arbirtary name, *'1u'* is the name of predefined set with VASP parameters (see here), *1* is arbirtary number of your calculation, *it_folder* is arbirtary path (locally and on the cluster) to the group of calculations, *mat_proj_id* is id at *materialsproject.org*. The last parameter can be omitted. \n",
      "After *add_loop()* you can access your new calculation in ```calc``` dictionary as ```calc['FePO4.pnma','1u', 1]```.\n",
      "\n",
      "Then go to your cluster and run at your home directory:"
     ]
    },
    {
     "cell_type": "code",
     "collapsed": false,
     "input": [
      "./run"
     ],
     "language": "python",
     "metadata": {},
     "outputs": []
    },
    {
     "cell_type": "markdown",
     "metadata": {},
     "source": [
      "when the calculation is complete, just rename ```add_loop``` to ```res_loop```."
     ]
    },
    {
     "cell_type": "code",
     "collapsed": false,
     "input": [
      "res_loop('FePO4.pnma','1u', 1, up = 'up1', input_geo_format = 'mat_proj', it_folder = 'LiFePO4', mat_proj_id = 'mp-777026') "
     ],
     "language": "python",
     "metadata": {},
     "outputs": []
    },
    {
     "cell_type": "markdown",
     "metadata": {},
     "source": [
      "or you can run simply"
     ]
    },
    {
     "cell_type": "code",
     "collapsed": false,
     "input": [
      "res_loop('FePO4.pnma','1u', 1)"
     ],
     "language": "python",
     "metadata": {},
     "outputs": []
    },
    {
     "cell_type": "markdown",
     "metadata": {},
     "source": [
      "-- Trying to download ~/LiFePO4//FePO4.pnma.1u/1.OUTCAR :~/LiFePO4//FePO4.pnma.1u/1.CONTCAR from server\n",
      "FePO4.pnma.1u.1    & -171.3453  |      8.75;6.59;4.78     | -6769,-6037,-6262  | 24 |  0.08  |   5, 6, 31   |  3  | 1 \n"
     ]
    },
    {
     "cell_type": "code",
     "collapsed": false,
     "input": [
      "print ('Full energy   = ', calc['FePO4.pnma','1u', 1].energy_sigma0 )\n",
      "print ('Vector length = ', calc['FePO4.pnma','1u', 1].vlength )\n",
      "cl = calc['FePO4.pnma','1u', 1]\n",
      "print (cl.stress)\n",
      "print (calc['FePO4.pnma','1u', 1].maxforce)"
     ],
     "language": "python",
     "metadata": {},
     "outputs": []
    },
    {
     "cell_type": "markdown",
     "metadata": {},
     "source": [
      "Full energy (eV)  =  -171.34531006\n",
      "Vector length (A) =  [8.751, 6.593, 4.781]\n",
      "Sigma xx  (MPa)   =  -6769.165\n",
      "Max force (meV/A) =  43.0"
     ]
    }
   ],
   "metadata": {}
  }
 ]
}