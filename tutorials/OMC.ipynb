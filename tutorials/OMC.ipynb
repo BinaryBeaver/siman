{
 "metadata": {
  "name": "",
  "signature": "sha256:e37b8e674ab8d67a14beaac20fa4e97e889ad411594fbfe317a4f1a9806e83e4"
 },
 "nbformat": 3,
 "nbformat_minor": 0,
 "worksheets": [
  {
   "cells": [
    {
     "cell_type": "markdown",
     "metadata": {},
     "source": [
      "#Occumation matrix control (OMC)\n",
      "To use [OMC](http://chemistry.tcd.ie/staff/people/gww/gw_new/research/methodology/) first you need to compile VASP with OMC support. On CEE cluster it is already supported.\n",
      "\n",
      "OMC patch allows to set the occupation matrices by hand, which is useful when you want to obtain specific polaron localization. By trying several localizations you can find the one corresponding to the minimum of energy.\n",
      "\n",
      "Let us consider one case, where OMC helps. As an example we will study Li diffusion in FePO$_4$ lattice using NEB DFT+U method.\n",
      "To get the initial structure from materialsproject.org just run:"
     ]
    },
    {
     "cell_type": "code",
     "collapsed": false,
     "input": [
      "add_loop('FePO4.pnma2','1u', 1, input_geo_format = 'mat_proj', it_folder = 'LiFePO4', mat_proj_id = 'mp-25001')"
     ],
     "language": "python",
     "metadata": {},
     "outputs": []
    },
    {
     "cell_type": "markdown",
     "metadata": {},
     "source": [
      "Now you have FePO$_4$ supercell with 24 atoms. To make a NEB calculation use:"
     ]
    },
    {
     "cell_type": "code",
     "collapsed": false,
     "input": [
      "add_neb(calc['FePO4.pnma2', '1u', 1], atom_to_insert = 'Li', i_void_start = 1, i_void_final = 2, r_impurity = 1.6 )"
     ],
     "language": "python",
     "metadata": {},
     "outputs": []
    },
    {
     "cell_type": "markdown",
     "metadata": {
      "slideshow": {
       "slide_type": "-"
      }
     },
     "source": [
      "This will make several actions:\n",
      " - Search for voids with radius less than 1.6 $\\unicode{x212B}$\n",
      " - Creates two configurations: start and final by inserting Li atom (see NEB Tutorial)\n",
      " - Creates new calculation 'FePO4.pnma2v1.n3i1e2Lims'and copies all nessasary files to server\n",
      " \n",
      "After the calculation is finished you can run:"
     ]
    },
    {
     "cell_type": "code",
     "collapsed": false,
     "input": [
      "res_loop('FePO4.pnma2v1.n3i1e2Lims', '1u', [1,2,3,4,5], show = 'mep')"
     ],
     "language": "python",
     "metadata": {},
     "outputs": []
    },
    {
     "cell_type": "markdown",
     "metadata": {},
     "source": [
      "[](figs/mep.FePO4.pnma2.n3i1e2Lims.1u_my.png)\n",
      "<img src=figs/mep.FePO4.pnma2.n3i1e2Lims.1u_my.png width=400 />"
     ]
    },
    {
     "cell_type": "markdown",
     "metadata": {},
     "source": [
      "The barrier is overestimated. To fix this you can start U-ramping method:"
     ]
    },
    {
     "cell_type": "code",
     "collapsed": false,
     "input": [
      "res_loop('FePO4.pnma2v1.n7i1e2Lims',[u'1ur30'], verlist = range(10), show = 'mep' ) "
     ],
     "language": "python",
     "metadata": {},
     "outputs": []
    },
    {
     "cell_type": "markdown",
     "metadata": {},
     "source": [
      "<img src=figs/mep.FePO4.pnma2v1.n7i1e2Lims.1ur30_my.png width=400 />"
     ]
    }
   ],
   "metadata": {}
  }
 ]
}