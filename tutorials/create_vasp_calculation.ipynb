{
 "metadata": {
  "name": "",
  "signature": "sha256:d29ac1ee532c7ff601b1b51d9c621c34c07ad293a26b3aaf17109e928160e805"
 },
 "nbformat": 3,
 "nbformat_minor": 0,
 "worksheets": [
  {
   "cells": [
    {
     "cell_type": "code",
     "collapsed": false,
     "input": [
      "import sys\n",
      "sys.path.extend(['/home/aksenov/Simulation_wrapper/siman', '/home/aksenov/Simulation_wrapper/SSHTools'])\n",
      "from SSHTools import SSHTools\n",
      "import header\n",
      "from calc_manage import add_loop, res_loop\n"
     ],
     "language": "python",
     "metadata": {},
     "outputs": [
      {
       "output_type": "stream",
       "stream": "stdout",
       "text": [
        "Some module is used separately; default_project_conf.py is used\n"
       ]
      }
     ],
     "prompt_number": 1
    },
    {
     "cell_type": "markdown",
     "metadata": {},
     "source": [
      "1. Prepare file with crystall structure in one of the following formats: cif, VASP, abinit\n",
      "2. Prepare file with input parameters (INCAR) or use pre-defined sets: 'static'\n",
      "3. Prepare POTCAR - potentials files"
     ]
    },
    {
     "cell_type": "code",
     "collapsed": false,
     "input": [
      "header.PATH2PROJECT    = 'topologic' # path to project relative to your home folder on cluster\n",
      "header.PATH2POTENTIALS = '/home/aksenov/scientific_projects/PAW_PBE_VASP' #path to VASP POTENTIALS\n",
      "header.varset['static'].potdir = {83:'Bi_pv', 34:'Se'} #subfolders with required potentials\n",
      "header.ssh_object = SSHTools()\n",
      "header.ssh_object.setup(user=\"aksenov\",host=\"10.30.16.62\",pkey=\"/home/aksenov/.ssh/id_rsa\")"
     ],
     "language": "python",
     "metadata": {},
     "outputs": [],
     "prompt_number": 2
    },
    {
     "cell_type": "code",
     "collapsed": false,
     "input": [
      "add_loop('Bi2Se3', 'static', 1, input_geo_file = 'Bi2Se3_mp-541837_computed.cif', it_folder = 'Bi2Se3', run = 0)\n",
      "# print(header.calc)"
     ],
     "language": "python",
     "metadata": {},
     "outputs": [
      {
       "output_type": "stream",
       "stream": "stdout",
       "text": [
        "-- You provided the following geo file explicitly  Bi2Se3_mp-541837_computed.cif ; Version of file does not matter, I use *curver*= 1 as a new version \n",
        "\n",
        "-- check_kpoints(): Kpoint   mesh is:  [8, 8, 8] \n",
        "\n",
        "-- check_kpoints(): The actual k-spacings are  [ 0.22  0.22  0.22] \n",
        "\n",
        "-- Attention! ngkpt =  [8, 8, 8]  is adopted from struct_des which you provided for it  Bi2Se3  and kspacing =  0.235 \n",
        "\n",
        "    \n",
        "    Calculation ('Bi2Se3', 'static', 1) successfully created\n",
        "    \n",
        "     \n",
        "\n"
       ]
      },
      {
       "metadata": {},
       "output_type": "pyout",
       "prompt_number": 3,
       "text": [
        "'Bi2Se3'"
       ]
      }
     ],
     "prompt_number": 3
    },
    {
     "cell_type": "code",
     "collapsed": false,
     "input": [
      "# header.calc['Bi2Se3', 'static', 1].read_results()\n",
      "res_loop('Bi2Se3', 'static', 1)"
     ],
     "language": "python",
     "metadata": {},
     "outputs": [
      {
       "output_type": "stream",
       "stream": "stdout",
       "text": [
        "-- name                          |  energy(eV)|    Vector lenghts (A)   | Stresses (MPa)     | N MD, N SCF    \n",
        "-- Bi2Se3.static.1               |  -20.1543  |    10.27;10.27;10.27    |  -680,-680,-657    |   1,13, 13    \n"
       ]
      },
      {
       "metadata": {},
       "output_type": "pyout",
       "prompt_number": 4,
       "text": [
        "(['Bi2Se3.static.1               |  -20.1543  |    10.27;10.27;10.27    |  -680,-680,-657    |   1,13, 13   '],\n",
        " [])"
       ]
      }
     ],
     "prompt_number": 4
    },
    {
     "cell_type": "code",
     "collapsed": false,
     "input": [
      "\n",
      "add_loop('Bi2Se3', 'static', 1, calc_method = 'uniform_scale', scale_region = (-5, 5), run = 0)"
     ],
     "language": "python",
     "metadata": {},
     "outputs": [
      {
       "output_type": "stream",
       "stream": "stdout",
       "text": [
        "-- Preparing   uniform_scale  calculation ...  \n",
        "\n",
        "-- inherit_ngkpt(): the k-grid from Bi2Se3 was inherited to Bi2Se3.su \n",
        "\n",
        "-- Scale_region is (-5, 5) \n",
        "\n",
        "-- Warning! File ./Bi2Se3/Bi2Se3.su/Bi2Se3.su.auto_created_scaled_image.1.geo was replaced \n",
        "\n",
        "-- Warning! File ./Bi2Se3/Bi2Se3.su/Bi2Se3.su.auto_created_scaled_image.2.geo was replaced \n",
        "\n",
        "-- Warning! File ./Bi2Se3/Bi2Se3.su/Bi2Se3.su.auto_created_scaled_image.3.geo was replaced \n",
        "\n",
        "-- Warning! File ./Bi2Se3/Bi2Se3.su/Bi2Se3.su.auto_created_scaled_image.4.geo was replaced \n",
        "\n",
        "-- Warning! File ./Bi2Se3/Bi2Se3.su/Bi2Se3.su.auto_created_scaled_image.5.geo was replaced \n",
        "\n",
        "-- Warning! File ./Bi2Se3/Bi2Se3.su/Bi2Se3.su.auto_created_scaled_image.6.geo was replaced \n",
        "\n",
        "-- Warning! File ./Bi2Se3/Bi2Se3.su/Bi2Se3.su.auto_created_scaled_image.7.geo was replaced \n",
        "\n",
        "-- 7 uniform images have been created. \n",
        "\n",
        "-- check_kpoints(): Kpoint   mesh is:  [8, 8, 8] \n",
        "\n",
        "-- check_kpoints(): The actual k-spacings are  [ 0.23  0.23  0.23] \n",
        "\n",
        "    \n",
        "    Calculation ('Bi2Se3.su', 'static', 1) successfully created\n",
        "    \n",
        "     \n",
        "\n",
        "-- check_kpoints(): Kpoint   mesh is:  [8, 8, 8] \n",
        "\n",
        "-- check_kpoints(): The actual k-spacings are  [ 0.23  0.23  0.23] \n",
        "\n",
        "    \n",
        "    Calculation ('Bi2Se3.su', 'static', 2) successfully created\n",
        "    \n",
        "     \n",
        "\n",
        "-- check_kpoints(): Kpoint   mesh is:  [8, 8, 8] \n",
        "\n",
        "-- check_kpoints(): The actual k-spacings are  [ 0.22  0.22  0.22] \n",
        "\n",
        "    \n",
        "    Calculation ('Bi2Se3.su', 'static', 3) successfully created\n",
        "    \n",
        "     \n",
        "\n"
       ]
      },
      {
       "output_type": "stream",
       "stream": "stdout",
       "text": [
        "-- check_kpoints(): Kpoint   mesh is:  [8, 8, 8] \n",
        "\n",
        "-- check_kpoints(): The actual k-spacings are  [ 0.22  0.22  0.22] \n",
        "\n",
        "    \n",
        "    Calculation ('Bi2Se3.su', 'static', 4) successfully created\n",
        "    \n",
        "     \n",
        "\n",
        "-- check_kpoints(): Kpoint   mesh is:  [8, 8, 8] \n",
        "\n",
        "-- check_kpoints(): The actual k-spacings are  [ 0.21  0.21  0.21] \n",
        "\n",
        "    \n",
        "    Calculation ('Bi2Se3.su', 'static', 5) successfully created\n",
        "    \n",
        "     \n",
        "\n",
        "-- check_kpoints(): Kpoint   mesh is:  [8, 8, 8] \n",
        "\n",
        "-- check_kpoints(): The actual k-spacings are  [ 0.21  0.21  0.21] \n",
        "\n",
        "    \n",
        "    Calculation ('Bi2Se3.su', 'static', 6) successfully created\n",
        "    \n",
        "     \n",
        "\n",
        "-- check_kpoints(): Kpoint   mesh is:  [8, 8, 8] \n",
        "\n",
        "-- check_kpoints(): The actual k-spacings are  [ 0.21  0.21  0.21] \n",
        "\n",
        "-- Attention! ngkpt =  [8, 8, 8]  is adopted from struct_des which you provided for it  Bi2Se3.su  and kspacing =  0.235 \n",
        "\n",
        "    \n",
        "    Calculation ('Bi2Se3.su', 'static', 7) successfully created\n",
        "    \n",
        "     \n",
        "\n"
       ]
      },
      {
       "output_type": "stream",
       "stream": "stdout",
       "text": [
        "    Submitted batch job 73530\n",
        "    Submitted batch job 73531\n",
        "                 JOBID PARTITION     NAME     USER ST       TIME  NODES NODELIST(REASON)\n",
        "                 73530       AMG Bi2Se3.s  aksenov PD       0:00      1 (None)\n",
        "                 73531       AMG Bi2Se3.s  aksenov PD       0:00      1 (Priority) \n",
        "\n"
       ]
      },
      {
       "metadata": {},
       "output_type": "pyout",
       "prompt_number": 5,
       "text": [
        "'Bi2Se3.su'"
       ]
      }
     ],
     "prompt_number": 5
    },
    {
     "cell_type": "markdown",
     "metadata": {},
     "source": [
      "1. Create configuration file project_"
     ]
    }
   ],
   "metadata": {}
  }
 ]
}