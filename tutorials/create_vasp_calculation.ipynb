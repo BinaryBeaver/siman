{
 "metadata": {
  "name": "",
  "signature": "sha256:cbd1995438443550b66629facf8bf3b4b72d7b0f50c816627dfd8cb35be5230f"
 },
 "nbformat": 3,
 "nbformat_minor": 0,
 "worksheets": [
  {
   "cells": [
    {
     "cell_type": "code",
     "collapsed": false,
     "input": [
      "import sys\n",
      "sys.path.extend(['/home/aksenov/Simulation_wrapper/siman', '/home/aksenov/Simulation_wrapper/SSHTools'])\n",
      "from SSHTools import SSHTools\n",
      "import header\n",
      "from calc_manage import add_loop, res_loop\n"
     ],
     "language": "python",
     "metadata": {},
     "outputs": [
      {
       "output_type": "stream",
       "stream": "stdout",
       "text": [
        "Some module is used separately; default_project_conf.py is used\n"
       ]
      }
     ],
     "prompt_number": 1
    },
    {
     "cell_type": "markdown",
     "metadata": {},
     "source": [
      "1. Prepare file with crystall structure in one of the following formats: cif, VASP, abinit\n",
      "2. Prepare file with input parameters (INCAR) or use pre-defined sets: 'static'\n",
      "3. Prepare POTCAR - potentials files"
     ]
    },
    {
     "cell_type": "code",
     "collapsed": false,
     "input": [
      "header.PATH2PROJECT    = 'topologic' # path to project relative to your home folder on cluster\n",
      "header.PATH2POTENTIALS = '/home/aksenov/scientific_projects/PAW_PBE_VASP' #path to VASP POTENTIALS\n",
      "header.varset['static'].potdir = {83:'Bi_pv', 34:'Se'} #subfolders with required potentials\n",
      "header.ssh_object = SSHTools()\n",
      "header.ssh_object.setup(user=\"aksenov\",host=\"10.30.16.62\",pkey=\"/home/aksenov/.ssh/id_rsa\")"
     ],
     "language": "python",
     "metadata": {},
     "outputs": [],
     "prompt_number": 2
    },
    {
     "cell_type": "code",
     "collapsed": false,
     "input": [
      "add_loop('Bi2Se3', 'static', 1, input_geo_file = 'Bi2Se3_mp-541837_computed.cif', it_folder = 'Bi2Se3', run = 0)\n",
      "# print(header.calc)"
     ],
     "language": "python",
     "metadata": {},
     "outputs": [
      {
       "output_type": "stream",
       "stream": "stdout",
       "text": [
        "-- You provided the following geo file explicitly  Bi2Se3_mp-541837_computed.cif version of file does not matter, I use *curver*= 1 as a new version \n",
        "\n",
        "-- check_kpoints(): Kpoint   mesh is:  [8, 8, 8] \n",
        "\n",
        "-- check_kpoints(): The actual k-spacings are  [ 0.22  0.22  0.22] \n",
        "\n",
        "    \n",
        "    Calculation ('Bi2Se3', 'static', 1) successfully created\n",
        "    \n",
        "     \n",
        "\n"
       ]
      },
      {
       "metadata": {},
       "output_type": "pyout",
       "prompt_number": 3,
       "text": [
        "'Bi2Se3'"
       ]
      }
     ],
     "prompt_number": 3
    },
    {
     "cell_type": "code",
     "collapsed": false,
     "input": [
      "# header.calc['Bi2Se3', 'static', 1].read_results()\n",
      "res_loop('Bi2Se3', 'static', 1, up = 'up2')"
     ],
     "language": "python",
     "metadata": {},
     "outputs": [
      {
       "output_type": "stream",
       "stream": "stdout",
       "text": [
        "-- name                          |  energy(eV)|    Vector lenghts (A)   | Stresses (MPa)     | N MD, N SCF    \n",
        "-- Bi2Se3.static.1               |  -20.1543  |    10.27;10.27;10.27    |  -680,-680,-657    |   1,13, 13    \n"
       ]
      },
      {
       "metadata": {},
       "output_type": "pyout",
       "prompt_number": 4,
       "text": [
        "(['Bi2Se3.static.1               |  -20.1543  |    10.27;10.27;10.27    |  -680,-680,-657    |   1,13, 13   '],\n",
        " [])"
       ]
      }
     ],
     "prompt_number": 4
    },
    {
     "cell_type": "markdown",
     "metadata": {},
     "source": [
      "1. Create configuration file project_"
     ]
    }
   ],
   "metadata": {}
  }
 ]
}