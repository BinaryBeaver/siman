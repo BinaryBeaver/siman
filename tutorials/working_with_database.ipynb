{
 "metadata": {
  "name": "",
  "signature": "sha256:014b208250907b1d16d86d21c53f4bd29151965472dfbfbccda1bc64bde3816a"
 },
 "nbformat": 3,
 "nbformat_minor": 0,
 "worksheets": [
  {
   "cells": [
    {
     "cell_type": "code",
     "collapsed": false,
     "input": [
      "for mat in ['LiFePO4', 'LiTiO2']:\n",
      "    # cl1, cl2 = get_from_database('x1', 'x0', mat, inquiry_keys = ['UGGA-Upaw400'])\n",
      "    cl1, cl2 = get_from_database('x1', 'x0', mat, inquiry_keys = [''], silent = True)\n",
      "    calc_redox(cl1, cl2)\n"
     ],
     "language": "python",
     "metadata": {},
     "outputs": []
    },
    {
     "cell_type": "code",
     "collapsed": false,
     "input": [
      "import sys\n",
      "sys.path.append('/home/aksenov/Simulation_wrapper') #path to siman package\n",
      "sys.path.append('/home/aksenov/Simulation_wrapper/siman') #path to siman package\n",
      "sys.path.append('/home/aksenov/Simulation_wrapper/SSHTools') #path to ssh tools\n",
      "from siman.analysis import calc_redox\n",
      "from siman.database import get_from_database\n",
      "from SSHTools import SSHTools\n",
      "\n",
      "ssh = SSHTools()\n",
      "\n",
      "# ssh.setup(user=\"Andriy.Zhugayevych\",host=\"cluster.skoltech.ru\",pkey=\"C:/Users/azh/Sys/Internet/SSH/skoltech/key2.ppk\")\n",
      "\n",
      "ssh.setup(user=\"aksenov\",host=\"10.30.100.28\",pkey=\"/home/aksenov/.ssh/id_rsa\")\n",
      "\n",
      "cl1, cl2 = get_from_database('x1', 'x0', 'LiFePO4', inquiry_keys = ['UGGA'], ssh_object = ssh)\n",
      "calc_redox(cl1, cl2)\n"
     ],
     "language": "python",
     "metadata": {},
     "outputs": [
      {
       "output_type": "stream",
       "stream": "stdout",
       "text": [
        "\n",
        "Files for x1 :\n",
        "1 LiFePO4/bin/x1_UGGA-Upaw400.pickle\n",
        "2 LiFePO4/bin/x1s_UGGA-Upaw400.pickle\n",
        "3 LiFePO4/bin/x1_UGGA-Upaw400_111.pickle\n",
        "4 LiFePO4/bin/x1_UGGA-Upaw400_122.pickle\n",
        "5 LiFePO4/bin/x1_UGGA-Upaw400_122s.pickle\n",
        "6 LiFePO4/bin/x1_UGGA-Upaw400_122m.pickle\n",
        "7 LiFePO4/bin/x1_UGGA-Upaw400_111m.pickle\n",
        "8 LiFePO4/bin/x1_UGGA-Upaw400_111s.pickle\n",
        "9 LiFePO4/em/bin/x1_UGGA-Upaw400_vs5.pickle\n",
        "10 LiFePO4/em/bin/x1_UGGA-Upaw400_vs3.pickle\n",
        "11 LiFePO4/em/bin/x1_UGGA-Upaw400_vs1.pickle\n",
        "12 LiFePO4/em/bin/x1_UGGA-Upaw400_vs2.pickle\n",
        "13 LiFePO4/em/bin/x1_UGGA-Upaw400_vs4.pickle\n",
        "14 LiFePO4/em/bin/x1_UGGA-Upaw400_cg4.pickle\n",
        "15 LiFePO4/em/bin/x1s_UGGA-Upaw400_cg2.pickle\n",
        "16 LiFePO4/em/bin/x1_UGGA-Upaw400_111s_cg2.pickle\n",
        "17 LiFePO4/em/bin/x1_UGGA-Upaw400_122s_cg2.pickle\n",
        "18 LiFePO4/em/bin/x1_UGGA-Upaw400_111m_cg2.pickle\n",
        "19 LiFePO4/em/bin/x1_UGGA-Upaw400_122m_cg2.pickle\n",
        "20 LiFePO4/bin/x1_UGGA-Upaw400_UHSE06paw400.pickle\n",
        "21 LiFePO4/bin/x1_UGGA-Upaw400_UGGA-Upaw600.pickle\n",
        "\n",
        "Files for x0 :\n",
        "1 LiFePO4/bin/x0_UGGA-Upaw400.pickle\n",
        "2 LiFePO4/bin/x0_UGGA-Upaw400_122.pickle\n",
        "3 LiFePO4/bin/x0_UGGA-Upaw400_234.pickle\n",
        "4 LiFePO4/bin/x0_UGGA-Upaw400_111.pickle\n",
        "5 LiFePO4/bin/x0_UGGA-Upaw400_122m.pickle\n",
        "6 LiFePO4/bin/x0_UGGA-Upaw400_111s.pickle\n",
        "7 LiFePO4/bin/x0_UGGA-Upaw400_111m.pickle\n",
        "8 LiFePO4/bin/x0_UGGA-Upaw400_122s.pickle\n",
        "9 LiFePO4/em/bin/x0_UGGA-Upaw400_vs4.pickle\n",
        "10 LiFePO4/em/bin/x0_UGGA-Upaw400_cg4.pickle\n",
        "11 LiFePO4/em/bin/x0_UGGA-Upaw400_vs3.pickle\n",
        "12 LiFePO4/em/bin/x0_UGGA-Upaw400_vs2.pickle\n",
        "13 LiFePO4/em/bin/x0_UGGA-Upaw400_vs6.pickle\n",
        "14 LiFePO4/em/bin/x0_UGGA-Upaw400_vs1.pickle\n",
        "15 LiFePO4/em/bin/x0_UGGA-Upaw400_vs5.pickle\n",
        "16 LiFePO4/bin/x0_UGGA-Upaw400_122s_mchg.pickle\n",
        "17 LiFePO4/em/bin/x0_UGGA-Upaw400_111m_cg2.pickle\n",
        "18 LiFePO4/em/bin/x0_UGGA-Upaw400_122s_cg2.pickle\n",
        "19 LiFePO4/em/bin/x0_UGGA-Upaw400_111s_cg2.pickle\n",
        "20 LiFePO4/em/bin/x0_UGGA-Upaw400_122m_cg2.pickle\n",
        "21 LiFePO4/bin/x0_UGGA-Upaw400_UGGA-Upaw600.pickle\n",
        "22 LiFePO4/em/bin/x0_UGGA-Upaw400_234m_cg2gp.pickle\n",
        "23 LiFePO4/em/bin/x0_UGGA-Upaw400_234s_cg2gp.pickle\n",
        "\n",
        "I choose first entries for both concentrations: LiFePO4/bin/x1_UGGA-Upaw400.pickle and LiFePO4/bin/x0_UGGA-Upaw400.pickle \n",
        "\n",
        "-- LiFePO4                        |       3.51 eV |        4.3 % \n",
        "\n"
       ]
      },
      {
       "metadata": {},
       "output_type": "pyout",
       "prompt_number": 15,
       "text": [
        "{}"
       ]
      }
     ],
     "prompt_number": 15
    }
   ],
   "metadata": {}
  }
 ]
}