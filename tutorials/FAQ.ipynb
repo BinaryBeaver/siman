{
 "metadata": {
  "name": "",
  "signature": "sha256:ba5dd575ab9441fa034bf9a409b77fbd272ba43ef656e5faa838e2368dbae661"
 },
 "nbformat": 3,
 "nbformat_minor": 0,
 "worksheets": [
  {
   "cells": [
    {
     "cell_type": "heading",
     "level": 1,
     "metadata": {},
     "source": [
      "Reading OUTCAR"
     ]
    },
    {
     "cell_type": "heading",
     "level": 2,
     "metadata": {},
     "source": [
      "1. How to read unfinished OUTCAR?"
     ]
    },
    {
     "cell_type": "code",
     "collapsed": false,
     "input": [
      "res_loop(up = 'un')"
     ],
     "language": "python",
     "metadata": {},
     "outputs": []
    },
    {
     "cell_type": "heading",
     "level": 2,
     "metadata": {},
     "source": [
      "2. How to read xcart at each relaxation step?"
     ]
    },
    {
     "cell_type": "code",
     "collapsed": false,
     "input": [
      "cl = calc['O2', '1u', 1]\n",
      "cl.read_results(out_type = 'xcarts') #\n",
      "print(cl.xcart_list)"
     ],
     "language": "python",
     "metadata": {},
     "outputs": []
    },
    {
     "cell_type": "heading",
     "level": 2,
     "metadata": {},
     "source": [
      "3. How to show additional information?"
     ]
    },
    {
     "cell_type": "code",
     "collapsed": false,
     "input": [
      "res_loop(show = 'smag') # show sum of all magnetic moments (and augmentation part) at each relaxation step"
     ],
     "language": "python",
     "metadata": {},
     "outputs": [
      {
       "ename": "NameError",
       "evalue": "name 'res_loop' is not defined",
       "output_type": "pyerr",
       "traceback": [
        "\u001b[0;31m---------------------------------------------------------------------------\u001b[0m\n\u001b[0;31mNameError\u001b[0m                                 Traceback (most recent call last)",
        "\u001b[0;32m<ipython-input-1-90547a0b3afb>\u001b[0m in \u001b[0;36m<module>\u001b[0;34m()\u001b[0m\n\u001b[0;32m----> 1\u001b[0;31m \u001b[0mres_loop\u001b[0m\u001b[0;34m(\u001b[0m\u001b[0mshow\u001b[0m \u001b[0;34m=\u001b[0m \u001b[0;34m'smag'\u001b[0m\u001b[0;34m)\u001b[0m \u001b[0;31m# show all magnetic moments on atoms at each relaxation step\u001b[0m\u001b[0;34m\u001b[0m\u001b[0m\n\u001b[0m",
        "\u001b[0;31mNameError\u001b[0m: name 'res_loop' is not defined"
       ]
      }
     ],
     "prompt_number": 1
    }
   ],
   "metadata": {}
  }
 ]
}