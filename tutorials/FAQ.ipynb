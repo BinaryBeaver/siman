{
 "metadata": {
  "name": "",
  "signature": "sha256:277b5d23077307ed70293faa5d83c35dae1c45a074f2f4d7c64e559c12837b30"
 },
 "nbformat": 3,
 "nbformat_minor": 0,
 "worksheets": [
  {
   "cells": [
    {
     "cell_type": "markdown",
     "metadata": {},
     "source": [
      "1. How to read unfinished OUTCAR?\n",
      "        res_loop(up = 'un')\n",
      "2. "
     ]
    }
   ],
   "metadata": {}
  }
 ]
}