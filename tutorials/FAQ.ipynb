{
 "metadata": {
  "name": "",
  "signature": "sha256:a49e15a851927323bc6d7de4702b360b9398b9e67eee73ffab5e93e5d68cb19a"
 },
 "nbformat": 3,
 "nbformat_minor": 0,
 "worksheets": [
  {
   "cells": [
    {
     "cell_type": "heading",
     "level": 1,
     "metadata": {},
     "source": [
      "Reading OUTCAR"
     ]
    },
    {
     "cell_type": "heading",
     "level": 2,
     "metadata": {},
     "source": [
      "1. How to read unfinished OUTCAR?"
     ]
    },
    {
     "cell_type": "code",
     "collapsed": false,
     "input": [
      "res_loop(up = 'un')"
     ],
     "language": "python",
     "metadata": {},
     "outputs": []
    },
    {
     "cell_type": "heading",
     "level": 2,
     "metadata": {},
     "source": [
      "2. How to read xcart at each relaxation step?"
     ]
    },
    {
     "cell_type": "code",
     "collapsed": false,
     "input": [
      "cl = calc['O2', '1u', 1]\n",
      "cl.read_results(out_type = 'xcarts') #\n",
      "print(cl.xcart_list)"
     ],
     "language": "python",
     "metadata": {},
     "outputs": []
    }
   ],
   "metadata": {}
  }
 ]
}