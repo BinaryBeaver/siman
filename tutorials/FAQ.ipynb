{
 "metadata": {
  "name": "",
  "signature": "sha256:d918259dbef5885906fcdb73d5e3f76360755c38c423deda0e4a64268826c9ad"
 },
 "nbformat": 3,
 "nbformat_minor": 0,
 "worksheets": [
  {
   "cells": [
    {
     "cell_type": "heading",
     "level": 1,
     "metadata": {},
     "source": [
      "Reading OUTCAR"
     ]
    },
    {
     "cell_type": "heading",
     "level": 2,
     "metadata": {},
     "source": [
      "1. How to read unfinished OUTCAR?"
     ]
    },
    {
     "cell_type": "code",
     "collapsed": false,
     "input": [
      "res_loop(up = 'un')"
     ],
     "language": "python",
     "metadata": {},
     "outputs": []
    },
    {
     "cell_type": "heading",
     "level": 2,
     "metadata": {},
     "source": [
      "2. How to read xcart at each relaxation step?"
     ]
    },
    {
     "cell_type": "code",
     "collapsed": false,
     "input": [
      "cl = calc['O2', '1u', 1]\n",
      "cl.read_results(out_type = 'xcarts') #\n",
      "print(cl.xcart_list)"
     ],
     "language": "python",
     "metadata": {},
     "outputs": []
    },
    {
     "cell_type": "heading",
     "level": 2,
     "metadata": {},
     "source": [
      "3. How to show additional information?"
     ]
    },
    {
     "cell_type": "code",
     "collapsed": false,
     "input": [
      "res_loop(show = 'smag') # show sum of all magnetic moments (and augmentation part) at each relaxation step\n",
      "res_loop(show = 'conv') # show convergence at each MD step"
     ],
     "language": "python",
     "metadata": {},
     "outputs": []
    },
    {
     "cell_type": "heading",
     "level": 2,
     "metadata": {},
     "source": [
      "4. How to switch off check of job status on server"
     ]
    },
    {
     "cell_type": "code",
     "collapsed": false,
     "input": [
      "res_loop(check_job = 0)\n",
      "add_loop(check_job = 0)"
     ],
     "language": "python",
     "metadata": {},
     "outputs": []
    }
   ],
   "metadata": {}
  }
 ]
}