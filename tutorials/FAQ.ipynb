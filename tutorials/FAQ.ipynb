{
 "metadata": {
  "name": "",
  "signature": "sha256:e26062e09247697ac885e671317358ae2b73456a12099101c63b3f0471a68860"
 },
 "nbformat": 3,
 "nbformat_minor": 0,
 "worksheets": [
  {
   "cells": [
    {
     "cell_type": "heading",
     "level": 1,
     "metadata": {},
     "source": [
      "Reading OUTCAR"
     ]
    },
    {
     "cell_type": "heading",
     "level": 2,
     "metadata": {},
     "source": [
      "1. How to read unfinished OUTCAR?"
     ]
    },
    {
     "cell_type": "code",
     "collapsed": false,
     "input": [
      "res_loop(up = 'un')"
     ],
     "language": "python",
     "metadata": {},
     "outputs": []
    },
    {
     "cell_type": "heading",
     "level": 2,
     "metadata": {},
     "source": [
      "2. How to read xcart at each relaxation step?"
     ]
    },
    {
     "cell_type": "code",
     "collapsed": false,
     "input": [
      "cl = calc['O2', '1u', 1]\n",
      "cl.read_results(out_type = 'xcarts') #\n",
      "print(cl.xcart_list)"
     ],
     "language": "python",
     "metadata": {},
     "outputs": []
    },
    {
     "cell_type": "heading",
     "level": 2,
     "metadata": {},
     "source": [
      "3. How to show additional information?"
     ]
    },
    {
     "cell_type": "code",
     "collapsed": false,
     "input": [
      "res_loop(show = 'smag') # show sum of all magnetic moments (and augmentation part) at each relaxation step\n",
      "res_loop(show = 'conv') # show convergence at each MD step\n",
      "res_loop(show = 'en') # show energy vs max. force plot\n",
      "res_loop(show = 'path') # show path to calculation folder\n",
      "res_loop(show = 'pos') # write poscar for last structure\n",
      "cl.end.jmol() or cl.jmol() # run jmol and show the structure"
     ],
     "language": "python",
     "metadata": {},
     "outputs": []
    },
    {
     "cell_type": "heading",
     "level": 2,
     "metadata": {},
     "source": [
      "4. How to switch off check of job status on server"
     ]
    },
    {
     "cell_type": "code",
     "collapsed": false,
     "input": [
      "res_loop(check_job = 0)\n",
      "add_loop(check_job = 0)"
     ],
     "language": "python",
     "metadata": {},
     "outputs": []
    },
    {
     "cell_type": "heading",
     "level": 2,
     "metadata": {},
     "source": [
      "5. Main control parameters in project_conf.py"
     ]
    },
    {
     "cell_type": "code",
     "collapsed": false,
     "input": [
      "check_job = 0 or 1 # whether to check job status, set to 0 for slow connections"
     ],
     "language": "python",
     "metadata": {},
     "outputs": [],
     "prompt_number": 1
    }
   ],
   "metadata": {}
  }
 ]
}