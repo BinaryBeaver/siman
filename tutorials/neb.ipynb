{
 "metadata": {
  "name": "",
  "signature": "sha256:873f2765505c15456ceec4353c9bb3d312a857b32948d395647d17ac4e11733e"
 },
 "nbformat": 3,
 "nbformat_minor": 0,
 "worksheets": [
  {
   "cells": [
    {
     "cell_type": "markdown",
     "metadata": {},
     "source": [
      "###Calculation of migration barriers using NEB method\n",
      "In this example we show how to calculate migration barrier on the example of LiFePO4\n",
      "\n",
      "##Important notes\n",
      "\n",
      "- Creation of intermediate images on server is done with [nebmake.pl](http://theory.cm.utexas.edu/code/vtstscripts.tgz) script. By using *add_neb(upload_vts = 1)* it will be uploaded to  ~/tools/vts/\n",
      "\n",
      "- To use void search you should compile findpores.cpp. For linux use make_findpores script in siman folder. Fow windows use Visuall C++ builder."
     ]
    },
    {
     "cell_type": "code",
     "collapsed": false,
     "input": [
      "import sys\n",
      "sys.path.append('/home/aksenov/Simulation_wrapper/siman')\n",
      "from SSHTools import SSHTools\n",
      "import header\n",
      "from calc_manage import add_loop, res_loop, smart_structure_read\n",
      "from database import write_database, read_database\n",
      "from set_functions import read_vasp_sets\n",
      "from neb import add_neb\n",
      "%matplotlib inline"
     ],
     "language": "python",
     "metadata": {},
     "outputs": [],
     "prompt_number": 1
    },
    {
     "cell_type": "code",
     "collapsed": false,
     "input": [
      "header.ssh_object = SSHTools()\n",
      "header.ssh_object.setup(user=\"aksenov\",host=\"10.30.16.62\",pkey=\"/home/aksenov/.ssh/id_rsa\")\n",
      "\n",
      "header.PATH2PROJECT    = 'neb' # path to project relative to your home folder on cluster\n",
      "header.PATH2POTENTIALS = '/home/aksenov/scientific_projects/PAW_PBE_VASP' #path to VASP POTENTIALS\n",
      "\n",
      "header.varset['static'].potdir = {3:'Li', 26:'Fe', 15:'P', 8:'O'} #subfolders with required potentials\n",
      "read_vasp_sets([('ion_relax', 'static', {'ISIF':2, 'IBRION':1, 'NSW':20, 'EDIFFG':-0.025}, 'override')]) #new set 'ion_relax' from 'static' with 'NSW' = 20"
     ],
     "language": "python",
     "metadata": {},
     "outputs": [
      {
       "output_type": "stream",
       "stream": "stdout",
       "text": [
        "\n",
        "Attention! You have chosen to override set ion_relax\n",
        " \n",
        "\n",
        "Warning! You did not change  ISIF  in ion_relax set\n",
        " \n",
        "\n",
        "Warning! You did not change  IBRION  in ion_relax set\n",
        " \n",
        "\n"
       ]
      },
      {
       "metadata": {},
       "output_type": "pyout",
       "prompt_number": 2,
       "text": [
        "{'static': <set_functions.InputSet at 0x7f2620341fd0>,\n",
        " 'ion_relax': <set_functions.InputSet at 0x7f265c486438>}"
       ]
      }
     ],
     "prompt_number": 2
    },
    {
     "cell_type": "code",
     "collapsed": false,
     "input": [
      "st = smart_structure_read(input_geo_file = 'in/mp-19017.POSCAR') #read LiFePO4 structure"
     ],
     "language": "python",
     "metadata": {},
     "outputs": [
      {
       "output_type": "stream",
       "stream": "stdout",
       "text": [
        "-- You provided the following geo file explicitly  in/mp-19017.POSCAR ; Version of file does not matter, I use *curver*= 1 as a new version \n",
        "\n"
       ]
      }
     ],
     "prompt_number": 3
    },
    {
     "cell_type": "markdown",
     "metadata": {},
     "source": [
      "###Create Initial and Final configurations and run on server\n",
      "Function add_neb() creates start and end configurations by removing or adding alkali ion atoms.\n",
      "The start and end configurations have 1 and 2 version numbers, respectively.\n",
      "All intermidiate images have version numbers starting from 3.\n",
      "Before setting *run = 1* you can check created configurations in xyz folder: mp-19017_start.xyz and mp-19017_end.xyz\n",
      "    \n",
      "- *it_new* and *it_new_folder* are name and folder for new calculation. \n",
      "- *ise_new* is set with VASP parameters defined above.\n",
      "- *images* is number of images and *corenum* is number of cores used for calculation; should be dividable by images.\n",
      "- *upload_vts = 1* upload nebmake.pl to server."
     ]
    },
    {
     "cell_type": "code",
     "collapsed": false,
     "input": [
      "add_neb(st = st, it_new = 'LiFePO4', ise_new = 'ion_relax', it_new_folder = 'LiFePO4/neb',\n",
      "        images = 3, corenum = 15, upload_vts = 0, run = 0)                \n"
     ],
     "language": "python",
     "metadata": {},
     "outputs": [
      {
       "output_type": "stream",
       "stream": "stdout",
       "text": [
        "-- You have chosen vacancy_creation mode of add_neb tool \n",
        "\n",
        "-- Type of atom to move =  Li \n",
        "\n",
        "I can suggest you 4 end positions. The distances to them are : [ 0.    3.04  5.74  6.5 ] A\n",
        "  They are all Li atoms \n",
        "\n",
        "-- File xyz/mp-19017_start.xyz was written \n",
        "\n",
        "-- File xyz/mp-19017_end.xyz was written \n",
        "\n",
        "-- Creating geo files for starting and final configurations (versions 1 and 2)  \n",
        "\n",
        "-- Warning! File ./LiFePO4/neb/LiFePO4.n3Li1v1/LiFePO4.n3Li1v1.auto_created_starting_position_for_neb_vacancy_creation.1.geo was replaced \n",
        "\n",
        "-- Warning! File ./LiFePO4/neb/LiFePO4.n3Li1v1/LiFePO4.n3Li1v1.auto_created_final_position_for_neb_vacancy_creation.2.geo was replaced \n",
        "\n",
        "-- Attention, I update number of images in the set to 3 for this calculation;  \n",
        "\n"
       ]
      },
      {
       "output_type": "stream",
       "stream": "stdout",
       "text": [
        "-- check_kpoints(): Kpoint   mesh is:  [3, 5, 6] \n",
        "\n"
       ]
      },
      {
       "output_type": "stream",
       "stream": "stdout",
       "text": [
        "-- check_kpoints(): The actual k-spacings are  [ 0.2   0.21  0.22] \n",
        "\n",
        "\n",
        "Calculation ('LiFePO4.n3Li1v1', 'ion_relax', 1) successfully created\n",
        "\n",
        " \n",
        "\n",
        "-- check_kpoints(): Kpoint   mesh is:  [3, 5, 6] \n",
        "\n",
        "-- check_kpoints(): The actual k-spacings are  [ 0.2   0.21  0.22] \n",
        "\n",
        "-- Attention! ngkpt =  [3, 5, 6]  is adopted from struct_des which you provided for it  LiFePO4.n3Li1v1  and kspacing =  0.235 \n",
        "\n",
        "\n",
        "Calculation ('LiFePO4.n3Li1v1', 'ion_relax', 2) successfully created\n",
        "\n",
        " \n",
        "\n"
       ]
      },
      {
       "output_type": "stream",
       "stream": "stdout",
       "text": [
        "-- Please be sure that vtsttools are at aksenov@10.30.16.62 /home/aksenov/tools/vts/ \n",
        "\n"
       ]
      },
      {
       "metadata": {},
       "output_type": "pyout",
       "prompt_number": 4,
       "text": [
        "'LiFePO4.n3Li1v1'"
       ]
      }
     ],
     "prompt_number": 4
    },
    {
     "cell_type": "code",
     "collapsed": false,
     "input": [
      "header.warnings = 'yY' #control warning levels: n, e, y, Y\n",
      "\n",
      "res_loop('LiFePO4.n3Li1v1', 'ion_relax', [1,2,3,4,5], show = 'fomepp', analys_type = 'neb'  )"
     ],
     "language": "python",
     "metadata": {},
     "outputs": [
      {
       "output_type": "stream",
       "stream": "stdout",
       "text": [
        "\n",
        "\n",
        "Max. F. tot  (meV/A) = \n",
        "[1845 2447 1024  738  489  772  231  237  184  126  139  104   55   89   42\n",
        "   47   37   32   31   27]; \n",
        "\n",
        "-- name                          |  energy(eV)|    Vector lenghts (A)   | Stresses (MPa)     | N MD, N SCF    \n",
        "-- LiFePO4.n3Li1v1.ion_relax.1   | -185.3215  |     10.45;6.09;4.75     |-13095,-13883,-9633 |  20, 7,147    \n",
        "-- Attention!, SCF was not converged to desirable prec 0.014 > 0.006 meV \n",
        "\n"
       ]
      }
     ]
    }
   ],
   "metadata": {}
  }
 ]
}