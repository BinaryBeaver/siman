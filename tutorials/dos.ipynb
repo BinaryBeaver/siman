{
 "metadata": {
  "name": "",
  "signature": "sha256:6b6b204ea48e33cad30bd77e9f5250f2bb0ef85df0c5ca13a1ac6cb80665cb2b"
 },
 "nbformat": 3,
 "nbformat_minor": 0,
 "worksheets": [
  {
   "cells": [
    {
     "cell_type": "heading",
     "level": 1,
     "metadata": {},
     "source": [
      "###Calculation of DOS"
     ]
    },
    {
     "cell_type": "markdown",
     "metadata": {},
     "source": [
      "Ase should be installed"
     ]
    },
    {
     "cell_type": "code",
     "collapsed": false,
     "input": [
      "import sys\n",
      "sys.path.extend(['/home/aksenov/Simulation_wrapper/siman', '/home/aksenov/Simulation_wrapper/SSHTools'])\n",
      "from SSHTools import SSHTools\n",
      "import header\n",
      "from calc_manage import add_loop, res_loop\n",
      "from database import write_database, read_database\n",
      "from set_functions import read_vasp_sets\n",
      "from dos_functions import plot_dos\n",
      "%matplotlib inline"
     ],
     "language": "python",
     "metadata": {},
     "outputs": [
      {
       "output_type": "stream",
       "stream": "stdout",
       "text": [
        "Some module is used separately; default_project_conf.py is used\n"
       ]
      }
     ],
     "prompt_number": 1
    },
    {
     "cell_type": "code",
     "collapsed": false,
     "input": [
      "read_database()\n",
      "header.PATH2PROJECT    = 'topologic' # path to project relative to your home folder on cluster\n",
      "header.PATH2POTENTIALS = '/home/aksenov/scientific_projects/PAW_PBE_VASP' #path to VASP POTENTIALS\n",
      "header.varset['static'].potdir = {83:'Bi_pv', 34:'Se'} #subfolders with required potentials\n",
      "header.ssh_object = SSHTools()\n",
      "header.ssh_object.setup(user=\"aksenov\",host=\"10.30.16.62\",pkey=\"/home/aksenov/.ssh/id_rsa\")"
     ],
     "language": "python",
     "metadata": {},
     "outputs": [],
     "prompt_number": 2
    },
    {
     "cell_type": "code",
     "collapsed": false,
     "input": [
      "dos_pack = {'NSW':0, 'LORBIT':12, \n",
      "            'ISMEAR':-5, 'LAECHG':'.TRUE.', \n",
      "            'EMIN':-10, 'EMAX':14, \n",
      "            'NEDOS':2000, 'KSPACING':0.15, \n",
      "            'savefile':'d'}\n",
      "read_vasp_sets([('dos', 'static',dos_pack, 'override')]) #new set 'dos' from 'static'"
     ],
     "language": "python",
     "metadata": {},
     "outputs": [
      {
       "output_type": "stream",
       "stream": "stdout",
       "text": [
        "    \n",
        "    Attention! You have chosen to override set dos\n",
        "     \n",
        "\n",
        "    Warning! You did not change  NSW  in dos set\n",
        "     \n",
        "\n"
       ]
      },
      {
       "metadata": {},
       "output_type": "pyout",
       "prompt_number": 3,
       "text": [
        "{'static': <set_functions.InputSet at 0x7f01ab38c588>,\n",
        " 'dos': <set_functions.InputSet at 0x7f01a8a56b38>}"
       ]
      }
     ],
     "prompt_number": 3
    },
    {
     "cell_type": "code",
     "collapsed": false,
     "input": [
      "add_loop('Bi2Se3', 'dos', 1, input_geo_file = 'Bi2Se3_mp-541837_computed.POSCAR', run = 1)"
     ],
     "language": "python",
     "metadata": {},
     "outputs": [
      {
       "output_type": "stream",
       "stream": "stdout",
       "text": [
        "-- You provided the following geo file explicitly  Bi2Se3_mp-541837_computed.POSCAR ; Version of file does not matter, I use *curver*= 1 as a new version \n",
        "\n",
        "-- check_kpoints(): Kpoint   mesh is:  [12, 12, 12] \n",
        "\n",
        "-- check_kpoints(): The actual k-spacings are  [ 0.15  0.15  0.15] \n",
        "\n",
        "-- Attention! ngkpt =  [12, 12, 12]  is adopted from struct_des which you provided for it  Bi2Se3  and kspacing =  0.15 \n",
        "\n"
       ]
      },
      {
       "output_type": "stream",
       "stream": "stdout",
       "text": [
        "    \n",
        "    Calculation ('Bi2Se3', 'dos', 1) successfully created\n",
        "    \n",
        "     \n",
        "\n"
       ]
      },
      {
       "output_type": "stream",
       "stream": "stdout",
       "text": [
        "    Submitted batch job 73599\n",
        "                 JOBID PARTITION     NAME     USER ST       TIME  NODES NODELIST(REASON)\n",
        "                 73599       AMG Bi2Se3.d  aksenov PD       0:00      1 (None) \n",
        "\n"
       ]
      },
      {
       "output_type": "stream",
       "stream": "stdout",
       "text": [
        "-- To read results use  res_loop('Bi2Se3', ['dos'], [1], show = 'fo'  )     # , on 2016-11-28   ; possible options for show: fit, fo, fop, en, mag, magp, smag, maga, occ, occ1 \n",
        "\n"
       ]
      },
      {
       "metadata": {},
       "output_type": "pyout",
       "prompt_number": 4,
       "text": [
        "'Bi2Se3'"
       ]
      }
     ],
     "prompt_number": 4
    }
   ],
   "metadata": {}
  }
 ]
}