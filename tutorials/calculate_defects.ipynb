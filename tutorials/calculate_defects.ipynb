{
 "metadata": {
  "name": "",
  "signature": "sha256:a652447bce9830b2d2a0a7cb34f8514fc67c818f2c4965250a775c652750f4b4"
 },
 "nbformat": 3,
 "nbformat_minor": 0,
 "worksheets": [
  {
   "cells": [
    {
     "cell_type": "heading",
     "level": 1,
     "metadata": {},
     "source": [
      "Study vacancies"
     ]
    },
    {
     "cell_type": "code",
     "collapsed": false,
     "input": [
      "from workflow_utilities import make_vacancy\n",
      "cl\n",
      "make_vacancy(cl, 'P')"
     ],
     "language": "python",
     "metadata": {},
     "outputs": []
    }
   ],
   "metadata": {}
  }
 ]
}