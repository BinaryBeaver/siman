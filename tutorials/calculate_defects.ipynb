{
 "metadata": {
  "name": "",
  "signature": "sha256:3a21e2fd6a94b217c53fa4a5f898947275ccbe140bb38fc05a1c767095e166c4"
 },
 "nbformat": 3,
 "nbformat_minor": 0,
 "worksheets": [
  {
   "cells": [
    {
     "cell_type": "heading",
     "level": 1,
     "metadata": {},
     "source": [
      "Study vacancies"
     ]
    },
    {
     "cell_type": "code",
     "collapsed": false,
     "input": [
      "from workflow_utilities import make_defect\n",
      "make_defect(cl, 'P')"
     ],
     "language": "python",
     "metadata": {},
     "outputs": []
    }
   ],
   "metadata": {}
  }
 ]
}