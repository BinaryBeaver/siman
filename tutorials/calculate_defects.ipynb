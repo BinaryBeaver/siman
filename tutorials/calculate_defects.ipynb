{
 "metadata": {
  "name": "",
  "signature": "sha256:f647d05e135390a826ebef2bb6a08906445d55f872670663e962bb4db854b5a4"
 },
 "nbformat": 3,
 "nbformat_minor": 0,
 "worksheets": [
  {
   "cells": [
    {
     "cell_type": "heading",
     "level": 1,
     "metadata": {},
     "source": [
      "Study vacancies"
     ]
    },
    {
     "cell_type": "code",
     "collapsed": false,
     "input": [
      "from workflow_utilities import make_vacancy\n",
      "cl\n",
      "make_defect(cl, 'P')"
     ],
     "language": "python",
     "metadata": {},
     "outputs": []
    }
   ],
   "metadata": {}
  }
 ]
}