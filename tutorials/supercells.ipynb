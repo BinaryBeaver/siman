{
 "metadata": {
  "name": "",
  "signature": "sha256:68f0f0d3d7ddd3e2b0b3ba1001a29d742d4a7d8478ba772a911aeed82a029d82"
 },
 "nbformat": 3,
 "nbformat_minor": 0,
 "worksheets": [
  {
   "cells": [
    {
     "cell_type": "markdown",
     "metadata": {},
     "source": [
      "###Building orthogonal supecells"
     ]
    },
    {
     "cell_type": "code",
     "collapsed": false,
     "input": [
      "import sys, numpy\n",
      "sys.path.extend(['/home/aksenov/Simulation_wrapper/siman'])\n",
      "from geo import ortho_vec, create_supercell\n",
      "from calc_manage import smart_structure_read\n",
      "%matplotlib inline"
     ],
     "language": "python",
     "metadata": {},
     "outputs": [
      {
       "output_type": "stream",
       "stream": "stdout",
       "text": [
        "Some module is used separately; default_project_conf.py is used\n"
       ]
      }
     ],
     "prompt_number": 1
    },
    {
     "cell_type": "code",
     "collapsed": false,
     "input": [
      "st = smart_structure_read(input_geo_file = 'ti_hcp.POSCAR') # read hcp lattice\n",
      "\n",
      "print('Initial vectors:\\n', numpy.array(st.rprimd) )\n",
      "\n",
      "mul_matrix = ortho_vec(st.rprimd, [10,10,10]) # matrix which allows to obtain supercell close to 10x10x10 A cube \n",
      "\n",
      "print('\\nMultiplication matrix:\\n', mul_matrix, '\\n')\n",
      "\n",
      "sc = create_supercell(st, mul_matrix)\n",
      "\n",
      "sc.write_xyz(sc, filename = 'ti_supercell') #save to xyz/ti_supercell.xyz"
     ],
     "language": "python",
     "metadata": {},
     "outputs": [
      {
       "output_type": "stream",
       "stream": "stdout",
       "text": [
        "-- You provided the following geo file explicitly  ti_hcp.POSCAR ; Version of file does not matter, I use *curver*= 1 as a new version \n",
        "\n",
        "Initial vectors:\n",
        " [[ 2.546 -1.47   0.   ]\n",
        " [ 0.     2.94   0.   ]\n",
        " [ 0.     0.     4.65 ]]\n",
        "\n",
        "Multiplication matrix:\n",
        " [[4 2 0]\n",
        " [0 3 0]\n",
        " [0 0 2]] \n",
        "\n",
        "New vectors (rprimd) of supercell:\n",
        " [[ 10.2   0.    0. ]\n",
        " [  0.    8.8   0. ]\n",
        " [  0.    0.    9.3]] \n",
        "-- The supercell should contain 48.0 atoms ...   -- OK \n",
        "\n",
        "-- File xyz/ti_supercell.xyz was written \n",
        "\n"
       ]
      }
     ],
     "prompt_number": 2
    },
    {
     "cell_type": "markdown",
     "metadata": {},
     "source": [
      "Construct large supercell for Bi2Se3. mp = 15 is needed to account all atoms"
     ]
    },
    {
     "cell_type": "code",
     "collapsed": false,
     "input": [
      "st = smart_structure_read(input_geo_file = 'Bi2Se3_mp-541837_computed.POSCAR') \n",
      "mul_matrix = ortho_vec(st.rprimd, [100, 98, 100]) # matrix which allows to obtain supercell close to 100x98x100 A cube \n",
      "print('Initial vectors:\\n', numpy.array(st.rprimd) )\n",
      "\n",
      "print('\\nMultiplication matrix:\\n', mul_matrix, '\\n')\n",
      "sc = create_supercell(st, mul_matrix, mp = 15) # larger *mp* values allow to find all atoms in supercell \n",
      "sc.write_xyz(sc, filename = 'Bi2Se3_supercell')"
     ],
     "language": "python",
     "metadata": {},
     "outputs": []
    },
    {
     "cell_type": "code",
     "collapsed": false,
     "input": [],
     "language": "python",
     "metadata": {},
     "outputs": []
    }
   ],
   "metadata": {}
  }
 ]
}