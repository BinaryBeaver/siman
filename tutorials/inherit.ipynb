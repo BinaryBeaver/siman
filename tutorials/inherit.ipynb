{
 "metadata": {
  "name": "",
  "signature": "sha256:0115bc485ffbfba91b3033bc37a11d4bf7854c9a5eedc50e8f8200abdafbd9c9"
 },
 "nbformat": 3,
 "nbformat_minor": 0,
 "worksheets": [
  {
   "cells": [
    {
     "cell_type": "markdown",
     "metadata": {},
     "source": [
      "Inherit using all version"
     ]
    },
    {
     "cell_type": "code",
     "collapsed": false,
     "input": [
      "#We have some calculation \n",
      "db['exmaple', '1ms0', 1].res()\n",
      "\n",
      "#Start a new calculation using the end state of previous calculation\n",
      "add_loop('exmaple', '1ms0', range(1,8), ise_new = '0m', inherit_option = 'full')\n",
      "#here ise_new is new set, which will be used for inherited calcualtions\n",
      "#Possible values of *inherit_option*:\n",
      "#'full', 'full_nomag', 'occ', 'r1r2r3', 'remove_imp', 'replace_atoms', 'make_vacancy', 'antisite', 'inherit_xred', 'continue'\n",
      "\n",
      "#if you need only one version, than run: \n",
      "db['exmaple', '1ms0', 1].run('0m')\n",
      "#Please pay attention than various version are calculated in one folder, \n",
      "#you will have error, if you run more than one version at the same time"
     ],
     "language": "python",
     "metadata": {},
     "outputs": []
    }
   ],
   "metadata": {}
  }
 ]
}