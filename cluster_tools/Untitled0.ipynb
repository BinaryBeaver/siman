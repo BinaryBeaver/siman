{
 "metadata": {
  "name": "",
  "signature": "sha256:95cf1dfb574e886de8a3f25e4c0f8d0ff5384a6c8aa63c37c763109583f0f298"
 },
 "nbformat": 3,
 "nbformat_minor": 0,
 "worksheets": [
  {
   "cells": [
    {
     "cell_type": "code",
     "collapsed": false,
     "input": [],
     "language": "python",
     "metadata": {},
     "outputs": []
    }
   ],
   "metadata": {}
  }
 ]
}